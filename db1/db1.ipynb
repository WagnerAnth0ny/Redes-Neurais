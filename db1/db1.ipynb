{
 "cells": [
  {
   "cell_type": "markdown",
   "id": "cbeb573d",
   "metadata": {},
   "source": [
    "<html>\n",
    "<body>\n",
    "    <div class=\"image-container\" style=\"display: flex;\">\n",
    "        <img src=\"https://ufal.br/ufal/resolveuid/5ba5577fc45f41f48a6e8e9311488b28\" alt=\"Image 1\" style=\"width: 15%; height: auto;\">\n",
    "        <img src=\"https://ic.ufal.br/site-logo\" alt=\"Image 2\" style=\"width: 15%; height: auto;\">\n",
    "    </div>\n",
    "   <h1 align=\"center\"> Redes Neurais e Aprendizado Profundo - 2023.1 </h1>\n",
    "   <h2 align=\"center\"> Professor: Tiago Figueiredo Vieira </h2>\n",
    "</body>\n",
    "</html>"
   ]
  },
  {
   "cell_type": "markdown",
   "id": "0f8d86c2",
   "metadata": {},
   "source": [
    "---"
   ]
  },
  {
   "cell_type": "markdown",
   "id": "da936538",
   "metadata": {
    "deletable": false,
    "editable": false,
    "nbgrader": {
     "cell_type": "markdown",
     "checksum": "76cd96da8f7af118d9e3fb04607c3590",
     "grade": false,
     "grade_id": "cell-2f571e7fa41fc132",
     "locked": true,
     "schema_version": 3,
     "solution": false,
     "task": false
    }
   },
   "source": [
    "# Classification using Perceptrons\n",
    "\n",
    "The following graph shows the distribution of samples (features $x_1$ and $x_2$) related to 3 (three) categories. In this exercise, solve the following questions:"
   ]
  },
  {
   "cell_type": "markdown",
   "id": "86dca1f9",
   "metadata": {
    "deletable": false,
    "editable": false,
    "nbgrader": {
     "cell_type": "markdown",
     "checksum": "ff2cdbe831a7f501b10684dbd8c7e992",
     "grade": false,
     "grade_id": "cell-702184b2b10d0ef5",
     "locked": true,
     "schema_version": 3,
     "solution": false,
     "task": false
    }
   },
   "source": [
    "![db1](data:image/png;base64,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)"
   ]
  },
  {
   "cell_type": "markdown",
   "id": "7b7794bd-87d4-44b1-a432-a32bee24d53b",
   "metadata": {},
   "source": [
    "## Part 1\n",
    "\n",
    "With the Perceptron you developed using only Numpy, provide a model capable of reasonably classifying such samples. Obs: For training procedure, use files (which are represented by light red, light green and cyan in the graph);\n",
    "\n",
    "| Samples | Labels |\n",
    "|---|---|\n",
    "| X_train.npy | y_train.npy |\n",
    "\n",
    "And for testing, use the following files (which are represented by dark blue, dark green and dark red in the graph):\n",
    "\n",
    "| Samples | Labels |\n",
    "|---|---|\n",
    "| X_test.npy | y_test.npy |"
   ]
  },
  {
   "cell_type": "code",
   "execution_count": 1,
   "id": "393a2360",
   "metadata": {},
   "outputs": [],
   "source": [
    "import numpy as np\n",
    "import matplotlib.pyplot as plt"
   ]
  },
  {
   "cell_type": "code",
   "execution_count": 2,
   "id": "d283fef6",
   "metadata": {},
   "outputs": [],
   "source": [
    "X_test = np.load('X_test.npy')\n",
    "y_test = np.load('y_test.npy')\n",
    "X_train = np.load('X_train.npy')\n",
    "y_train = np.load('y_train.npy')\n",
    "\n",
    "y_test_orig = y_test"
   ]
  },
  {
   "cell_type": "code",
   "execution_count": 3,
   "id": "f5d5393a",
   "metadata": {},
   "outputs": [
    {
     "name": "stdout",
     "output_type": "stream",
     "text": [
      "Shape X_train: (124, 13)\n",
      "Shape y_tain: (124,)\n"
     ]
    }
   ],
   "source": [
    "print(\"Shape X_train:\", str(X_train.shape))\n",
    "print(\"Shape y_tain:\", str(y_train.shape))"
   ]
  },
  {
   "cell_type": "code",
   "execution_count": 4,
   "id": "bd74d527",
   "metadata": {},
   "outputs": [],
   "source": [
    "# Criando os dados para OneVsAll\n",
    "\n",
    "y_train_0 = np.where(y_train == 2, 3, y_train)\n",
    "y_train_0 = np.where(y_train_0 == 1, 3, y_train_0)\n",
    "y_train_0 = np.where(y_train_0 == 0, 1, y_train_0)\n",
    "y_train_0 = np.where(y_train_0 == 3, 0, y_train_0)\n",
    "\n",
    "y_train_1 = np.where(y_train == 2, 0, y_train)\n",
    "\n",
    "y_train_2 = np.where(y_train == 1, 0, y_train)\n",
    "y_train_2 = np.where(y_train_2 == 2, 1, y_train_2)"
   ]
  },
  {
   "cell_type": "code",
   "execution_count": 5,
   "id": "7fc1fbcd",
   "metadata": {},
   "outputs": [],
   "source": [
    "class Perceptron:\n",
    "    def __init__(self, lr, epochs):\n",
    "        self.lr = lr\n",
    "        self.epochs = epochs\n",
    "        self.weights = None\n",
    "        self.bias = None\n",
    "        \n",
    "    def sigmoid(self, z):\n",
    "        return 1 / (1 + np.exp(-z)) # Sigmoid\n",
    "    \n",
    "    def fit(self, X, y):     \n",
    "        num_features = X.shape[1]\n",
    "        self.weights = np.zeros(num_features)\n",
    "        self.bias = 0\n",
    "        \n",
    "        for _ in range(self.epochs):\n",
    "            z = np.dot(X, self.weights) + self.bias\n",
    "            \n",
    "            predictions = self.sigmoid(z)\n",
    "            \n",
    "            dw = (1 / len(X)) * np.dot(X.T, (predictions - y))\n",
    "            db = (1 / len(X)) * np.sum(predictions - y)\n",
    "            \n",
    "            self.weights -= self.lr * dw\n",
    "            self.bias -= self.lr * db\n",
    "            \n",
    "    def predict(self, X):       \n",
    "        z = np.dot(X, self.weights) + self.bias\n",
    "        predictions = self.sigmoid(z)\n",
    "        return predictions"
   ]
  },
  {
   "cell_type": "code",
   "execution_count": 6,
   "id": "edfea0ad",
   "metadata": {},
   "outputs": [
    {
     "name": "stderr",
     "output_type": "stream",
     "text": [
      "/tmp/ipykernel_167127/1130458316.py:9: RuntimeWarning: overflow encountered in exp\n",
      "  return 1 / (1 + np.exp(-z)) # Sigmoid\n"
     ]
    }
   ],
   "source": [
    "perceptron0 = Perceptron(0.01, 2000)\n",
    "perceptron1 = Perceptron(0.01, 2000)\n",
    "perceptron2 = Perceptron(0.01, 2000)\n",
    "\n",
    "perceptron0.fit(X_train, y_train_0)\n",
    "perceptron1.fit(X_train, y_train_1)\n",
    "perceptron2.fit(X_train, y_train_2)"
   ]
  },
  {
   "cell_type": "code",
   "execution_count": 7,
   "id": "e1beedd2",
   "metadata": {},
   "outputs": [
    {
     "name": "stdout",
     "output_type": "stream",
     "text": [
      "[1, 0, 1, 0, 1, 0, 1, 1, 1, 0, 0, 1, 0, 1, 0, 1, 1, 1, 0, 1, 0, 1, 1, 1, 1, 1, 1, 1, 1, 0, 0, 1, 0, 0, 0, 0, 1, 1, 1, 1, 0, 1, 1, 1, 1, 0, 1, 1, 1, 0, 1, 0, 0, 1]\n"
     ]
    },
    {
     "name": "stderr",
     "output_type": "stream",
     "text": [
      "/tmp/ipykernel_167127/1130458316.py:9: RuntimeWarning: overflow encountered in exp\n",
      "  return 1 / (1 + np.exp(-z)) # Sigmoid\n"
     ]
    }
   ],
   "source": [
    "prediction0 = perceptron0.predict(X_test)\n",
    "prediction1 = perceptron1.predict(X_test)\n",
    "prediction2 = perceptron2.predict(X_test)\n",
    "\n",
    "'''print(\"########################################\")\n",
    "print(prediction0)\n",
    "print(\"########################################\")\n",
    "print(prediction1)\n",
    "print(\"########################################\")\n",
    "print(prediction2)'''\n",
    "\n",
    "results = []\n",
    "\n",
    "for i in range(len(prediction0)):\n",
    "    results.append(np.argmax([\n",
    "        prediction0[i],\n",
    "        prediction1[i],\n",
    "        prediction2[i]\n",
    "    ]))\n",
    "\n",
    "print(results)"
   ]
  },
  {
   "cell_type": "code",
   "execution_count": 8,
   "id": "2c4ae6ee",
   "metadata": {
    "deletable": false,
    "editable": false,
    "nbgrader": {
     "cell_type": "code",
     "checksum": "05ed21c4b41810e8fa5e2c9176f8a8cd",
     "grade": false,
     "grade_id": "cell-1e1f48c6529718a1",
     "locked": true,
     "schema_version": 3,
     "solution": false,
     "task": false
    }
   },
   "outputs": [],
   "source": [
    "def accuracy(predictions, y_test):\n",
    "    classifications = len(y_test)\n",
    "    correct_classifications = sum(p == r for p, r in zip(predictions, y_test))\n",
    "    return correct_classifications / classifications\n",
    "\n",
    "# Por padrão utilizar os nomes 'predictions' e 'y_test'\n",
    "\n",
    "predictions = [1, 1, 1, 1, 1]\n",
    "y_test = [1, 1, 2, 1, 1]"
   ]
  },
  {
   "cell_type": "code",
   "execution_count": 9,
   "id": "f8ec6b08",
   "metadata": {},
   "outputs": [
    {
     "name": "stdout",
     "output_type": "stream",
     "text": [
      "0.7222222222222222\n"
     ]
    }
   ],
   "source": [
    "predictions = results\n",
    "y_test = y_test_orig\n",
    "\n",
    "print(accuracy(predictions, y_test))"
   ]
  },
  {
   "cell_type": "code",
   "execution_count": 10,
   "id": "1bffef5b",
   "metadata": {
    "deletable": false,
    "editable": false,
    "nbgrader": {
     "cell_type": "code",
     "checksum": "fbc3a124dc26026a19b18e2a6e34e2ab",
     "grade": true,
     "grade_id": "cell-50a0d16b5bd96b0e",
     "locked": true,
     "points": 0.5,
     "schema_version": 3,
     "solution": false,
     "task": false
    }
   },
   "outputs": [],
   "source": [
    "assert accuracy(predictions, y_test) > 0.55"
   ]
  },
  {
   "cell_type": "markdown",
   "id": "9bf4b1ae-f04f-45ac-93eb-32a008903e2b",
   "metadata": {},
   "source": [
    "## Part 2\n",
    "\n",
    "**Perform some linear data transformation** that you believe might cause an improvement in the classification's training and testing performances."
   ]
  },
  {
   "cell_type": "code",
   "execution_count": 11,
   "id": "ead6b806",
   "metadata": {},
   "outputs": [],
   "source": [
    "X_train_cropped = X_train[:, [0, 5]]\n",
    "X_test_cropped = X_test[:, [0, 5]]"
   ]
  },
  {
   "cell_type": "code",
   "execution_count": 12,
   "id": "bf91307f",
   "metadata": {},
   "outputs": [
    {
     "data": {
      "image/png": "[encoded data removed]",
      "text/plain": [
       "<Figure size 640x480 with 1 Axes>"
      ]
     },
     "metadata": {},
     "output_type": "display_data"
    }
   ],
   "source": [
    "class_to_color = {\n",
    "    0: 'red',\n",
    "    1: 'green',\n",
    "}\n",
    "\n",
    "for i in range(len(y_train)):\n",
    "    plt.scatter(X_train[:, 1][i], X_train[:, 12][i], c=class_to_color[y_train_0[i]])"
   ]
  },
  {
   "cell_type": "code",
   "execution_count": 13,
   "id": "27edc15f",
   "metadata": {},
   "outputs": [
    {
     "data": {
      "image/png": "[encoded data removed]",
      "text/plain": [
       "<Figure size 640x480 with 1 Axes>"
      ]
     },
     "metadata": {},
     "output_type": "display_data"
    }
   ],
   "source": [
    "for i in range(len(y_train)):\n",
    "    plt.scatter(X_train[:, 0][i], X_train[:, 9][i], c=class_to_color[y_train_1[i]])"
   ]
  },
  {
   "cell_type": "code",
   "execution_count": 14,
   "id": "2f8cd543",
   "metadata": {},
   "outputs": [
    {
     "data": {
      "image/png": "[encoded data removed]",
      "text/plain": [
       "<Figure size 640x480 with 1 Axes>"
      ]
     },
     "metadata": {},
     "output_type": "display_data"
    }
   ],
   "source": [
    "for i in range(len(y_train)):\n",
    "    plt.scatter(X_train[:, 0][i], X_train[:, 6][i], c=class_to_color[y_train_2[i]])"
   ]
  },
  {
   "cell_type": "code",
   "execution_count": 15,
   "id": "4073965d",
   "metadata": {},
   "outputs": [
    {
     "name": "stderr",
     "output_type": "stream",
     "text": [
      "/tmp/ipykernel_167127/1130458316.py:9: RuntimeWarning: overflow encountered in exp\n",
      "  return 1 / (1 + np.exp(-z)) # Sigmoid\n"
     ]
    }
   ],
   "source": [
    "perceptron0 = Perceptron(0.01, 2000)\n",
    "perceptron1 = Perceptron(0.01, 2000)\n",
    "perceptron2 = Perceptron(0.01, 2000)\n",
    "\n",
    "perceptron0.fit(X_train, y_train_0)\n",
    "perceptron1.fit(X_train[:, [0, 9]], y_train_1)\n",
    "perceptron2.fit(X_train[:, [0, 6]], y_train_2)"
   ]
  },
  {
   "cell_type": "code",
   "execution_count": 16,
   "id": "643e4b73",
   "metadata": {},
   "outputs": [
    {
     "name": "stdout",
     "output_type": "stream",
     "text": [
      "[1, 0, 2, 0, 1, 0, 1, 2, 1, 0, 0, 2, 0, 1, 0, 1, 1, 1, 0, 1, 0, 1, 1, 2, 2, 2, 1, 1, 1, 0, 0, 1, 0, 0, 0, 0, 2, 2, 1, 2, 0, 1, 1, 1, 2, 0, 1, 1, 2, 0, 1, 0, 0, 2]\n"
     ]
    },
    {
     "name": "stderr",
     "output_type": "stream",
     "text": [
      "/tmp/ipykernel_167127/1130458316.py:9: RuntimeWarning: overflow encountered in exp\n",
      "  return 1 / (1 + np.exp(-z)) # Sigmoid\n"
     ]
    }
   ],
   "source": [
    "prediction0 = perceptron0.predict(X_test)\n",
    "prediction1 = perceptron1.predict(X_test[:, [0, 9]])\n",
    "prediction2 = perceptron2.predict(X_test[:, [0, 6]])\n",
    "\n",
    "'''print(\"########################################\")\n",
    "print(prediction0)\n",
    "print(\"########################################\")\n",
    "print(prediction1)\n",
    "print(\"########################################\")\n",
    "print(prediction2)'''\n",
    "\n",
    "results = []\n",
    "\n",
    "for i in range(len(prediction0)):\n",
    "    results.append(np.argmax([\n",
    "        prediction0[i],\n",
    "        prediction1[i],\n",
    "        prediction2[i]\n",
    "    ]))\n",
    "\n",
    "print(results)"
   ]
  },
  {
   "cell_type": "code",
   "execution_count": 17,
   "id": "6ed8fbf8-3c5d-4002-8781-220b810f94c1",
   "metadata": {},
   "outputs": [
    {
     "name": "stdout",
     "output_type": "stream",
     "text": [
      "0.9444444444444444\n"
     ]
    }
   ],
   "source": [
    "def accuracy(predictions, y_test):\n",
    "    classifications = len(y_test)\n",
    "    correct_classifications = sum(p == r for p, r in zip(predictions, y_test))\n",
    "    return correct_classifications / classifications\n",
    "\n",
    "# Por padrão utilizar os nomes 'predictions' e 'y_test'\n",
    "\n",
    "predictions = results\n",
    "y_test = y_test_orig\n",
    "\n",
    "print(accuracy(predictions, y_test))"
   ]
  },
  {
   "cell_type": "code",
   "execution_count": 18,
   "id": "9d938b30",
   "metadata": {
    "deletable": false,
    "editable": false,
    "nbgrader": {
     "cell_type": "code",
     "checksum": "c5e3b345681e90d5c739f78e26f9b130",
     "grade": true,
     "grade_id": "cell-125f9a874004815e",
     "locked": true,
     "points": 0.5,
     "schema_version": 3,
     "solution": false,
     "task": false
    }
   },
   "outputs": [],
   "source": [
    "assert accuracy(predictions, y_test) > 0.55"
   ]
  }
 ],
 "metadata": {
  "kernelspec": {
   "display_name": "Python 3 (ipykernel)",
   "language": "python",
   "name": "python3"
  },
  "language_info": {
   "codemirror_mode": {
    "name": "ipython",
    "version": 3
   },
   "file_extension": ".py",
   "mimetype": "text/x-python",
   "name": "python",
   "nbconvert_exporter": "python",
   "pygments_lexer": "ipython3",
   "version": "3.10.9"
  }
 },
 "nbformat": 4,
 "nbformat_minor": 5
}
